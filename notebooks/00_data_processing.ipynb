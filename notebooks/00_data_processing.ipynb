{
 "cells": [
  {
   "cell_type": "markdown",
   "metadata": {},
   "source": [
    "# Libraries"
   ]
  },
  {
   "cell_type": "code",
   "execution_count": null,
   "metadata": {},
   "outputs": [],
   "source": [
    "import zipfile\n",
    "import pandas as pd\n",
    "import os\n",
    "\n"
   ]
  },
  {
   "cell_type": "markdown",
   "metadata": {},
   "source": [
    "# Data Loader"
   ]
  },
  {
   "cell_type": "markdown",
   "metadata": {},
   "source": [
    "## Extract raw data for available cities"
   ]
  },
  {
   "cell_type": "code",
   "execution_count": 12,
   "metadata": {},
   "outputs": [],
   "source": [
    "# Define the relative path to the raw data directory\n",
    "data_dir = '../data/raw'  # Relative path from A/notebooks to A/data/raw\n",
    "\n",
    "# Initialize a dictionary to store both energy and weather data for each city\n",
    "city_data = {}\n",
    "\n",
    "# Loop through each zip file in the directory\n",
    "for zip_filename in os.listdir(data_dir):\n",
    "    if zip_filename.endswith('.zip'):\n",
    "        # Extract city name from the filename (e.g., \"austin.zip\" -> \"austin\")\n",
    "        city_name = zip_filename.replace('.zip', '').lower()  # Normalize to lowercase for consistency\n",
    "        \n",
    "        # Initialize a nested dictionary for the current city\n",
    "        city_data[city_name] = {}\n",
    "        \n",
    "        with zipfile.ZipFile(os.path.join(data_dir, zip_filename), 'r') as zip_ref:\n",
    "            # Loop through each file in the zip\n",
    "            for file in zip_ref.namelist():\n",
    "                # Check for energy data file\n",
    "                if 'energy' in file.lower():\n",
    "                    with zip_ref.open(file) as csv_file:\n",
    "                        city_data[city_name]['energy'] = pd.read_csv(csv_file, encoding='ISO-8859-1')\n",
    "                # Check for weather data file\n",
    "                elif 'weather' in file.lower():\n",
    "                    with zip_ref.open(file) as csv_file:\n",
    "                        city_data[city_name]['weather'] = pd.read_csv(csv_file, encoding='ISO-8859-1')\n",
    "\n"
   ]
  },
  {
   "cell_type": "code",
   "execution_count": null,
   "metadata": {},
   "outputs": [],
   "source": []
  }
 ],
 "metadata": {
  "kernelspec": {
   "display_name": "base",
   "language": "python",
   "name": "python3"
  },
  "language_info": {
   "codemirror_mode": {
    "name": "ipython",
    "version": 3
   },
   "file_extension": ".py",
   "mimetype": "text/x-python",
   "name": "python",
   "nbconvert_exporter": "python",
   "pygments_lexer": "ipython3",
   "version": "3.11.5"
  }
 },
 "nbformat": 4,
 "nbformat_minor": 2
}
