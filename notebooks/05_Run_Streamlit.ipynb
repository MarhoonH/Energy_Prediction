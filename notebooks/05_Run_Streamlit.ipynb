{
 "cells": [
  {
   "cell_type": "code",
   "execution_count": 2,
   "metadata": {},
   "outputs": [
    {
     "name": "stdout",
     "output_type": "stream",
     "text": [
      "\u001b[0m\n",
      "\u001b[34m\u001b[1m  You can now view your Streamlit app in your browser.\u001b[0m\n",
      "\u001b[0m\n",
      "\u001b[34m  Local URL: \u001b[0m\u001b[1mhttp://localhost:8501\u001b[0m\n",
      "\u001b[34m  Network URL: \u001b[0m\u001b[1mhttp://10.10.21.167:8501\u001b[0m\n",
      "\u001b[0m\n",
      "/Users/hassan/Documents/GitHub/Energy_Prediction/streamlit_app/WattWise.py:393: UserWarning: Converting to PeriodArray/Index representation will drop timezone information.\n",
      "  unique_months = filtered_df[\"date\"].dt.to_period(\"M\").unique()\n",
      "/Users/hassan/Documents/GitHub/Energy_Prediction/streamlit_app/WattWise.py:402: UserWarning: Converting to PeriodArray/Index representation will drop timezone information.\n",
      "  last_month_data = filtered_df[filtered_df[\"date\"].dt.to_period(\"M\") == last_month]\n",
      "/Users/hassan/Documents/GitHub/Energy_Prediction/streamlit_app/WattWise.py:403: UserWarning: Converting to PeriodArray/Index representation will drop timezone information.\n",
      "  prev_month_data = filtered_df[filtered_df[\"date\"].dt.to_period(\"M\") == prev_month]\n",
      "/Users/hassan/Documents/GitHub/Energy_Prediction/streamlit_app/WattWise.py:406: SettingWithCopyWarning: \n",
      "A value is trying to be set on a copy of a slice from a DataFrame.\n",
      "Try using .loc[row_indexer,col_indexer] = value instead\n",
      "\n",
      "See the caveats in the documentation: https://pandas.pydata.org/pandas-docs/stable/user_guide/indexing.html#returning-a-view-versus-a-copy\n",
      "  last_month_data[\"day_of_month\"] = last_month_data[\"date\"].dt.day\n",
      "/Users/hassan/Documents/GitHub/Energy_Prediction/streamlit_app/WattWise.py:407: SettingWithCopyWarning: \n",
      "A value is trying to be set on a copy of a slice from a DataFrame.\n",
      "Try using .loc[row_indexer,col_indexer] = value instead\n",
      "\n",
      "See the caveats in the documentation: https://pandas.pydata.org/pandas-docs/stable/user_guide/indexing.html#returning-a-view-versus-a-copy\n",
      "  prev_month_data[\"day_of_month\"] = prev_month_data[\"date\"].dt.day\n",
      "/Users/hassan/Documents/GitHub/Energy_Prediction/streamlit_app/WattWise.py:410: SettingWithCopyWarning: \n",
      "A value is trying to be set on a copy of a slice from a DataFrame.\n",
      "Try using .loc[row_indexer,col_indexer] = value instead\n",
      "\n",
      "See the caveats in the documentation: https://pandas.pydata.org/pandas-docs/stable/user_guide/indexing.html#returning-a-view-versus-a-copy\n",
      "  last_month_data[\"label\"] = f\"{last_month.start_time.strftime('%B %Y')}\"\n",
      "/Users/hassan/Documents/GitHub/Energy_Prediction/streamlit_app/WattWise.py:411: SettingWithCopyWarning: \n",
      "A value is trying to be set on a copy of a slice from a DataFrame.\n",
      "Try using .loc[row_indexer,col_indexer] = value instead\n",
      "\n",
      "See the caveats in the documentation: https://pandas.pydata.org/pandas-docs/stable/user_guide/indexing.html#returning-a-view-versus-a-copy\n",
      "  prev_month_data[\"label\"] = f\"{prev_month.start_time.strftime('%B %Y')}\"\n",
      "^C\n",
      "\u001b[34m  Stopping...\u001b[0m\n"
     ]
    }
   ],
   "source": [
    "! streamlit run ../streamlit_app/WattWise.py"
   ]
  },
  {
   "cell_type": "code",
   "execution_count": null,
   "metadata": {},
   "outputs": [],
   "source": []
  },
  {
   "cell_type": "code",
   "execution_count": null,
   "metadata": {},
   "outputs": [],
   "source": []
  }
 ],
 "metadata": {
  "kernelspec": {
   "display_name": "base",
   "language": "python",
   "name": "python3"
  },
  "language_info": {
   "codemirror_mode": {
    "name": "ipython",
    "version": 3
   },
   "file_extension": ".py",
   "mimetype": "text/x-python",
   "name": "python",
   "nbconvert_exporter": "python",
   "pygments_lexer": "ipython3",
   "version": "3.11.5"
  }
 },
 "nbformat": 4,
 "nbformat_minor": 2
}
